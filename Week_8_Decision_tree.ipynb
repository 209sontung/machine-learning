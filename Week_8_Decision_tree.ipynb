{
  "nbformat": 4,
  "nbformat_minor": 0,
  "metadata": {
    "colab": {
      "name": "Week 8 - Decision tree.ipynb",
      "provenance": [],
      "authorship_tag": "ABX9TyOBdgoBEwdB+5528nC/vAzp",
      "include_colab_link": true
    },
    "kernelspec": {
      "name": "python3",
      "display_name": "Python 3"
    },
    "language_info": {
      "name": "python"
    }
  },
  "cells": [
    {
      "cell_type": "markdown",
      "metadata": {
        "id": "view-in-github",
        "colab_type": "text"
      },
      "source": [
        "<a href=\"https://colab.research.google.com/github/209sontung/machine-learning/blob/main/Week_8_Decision_tree.ipynb\" target=\"_parent\"><img src=\"https://colab.research.google.com/assets/colab-badge.svg\" alt=\"Open In Colab\"/></a>"
      ]
    },
    {
      "cell_type": "code",
      "metadata": {
        "id": "4OHWIE-wwn8b"
      },
      "source": [
        "import numpy as np\n",
        "import matplotlib.pyplot as plt\n",
        "import pandas as pd\n",
        "\n",
        "data = np.genfromtxt('https://raw.githubusercontent.com/nttuan8/DL_Tutorial/master/L2/dataset.csv',\n",
        "                     delimiter=',', skip_header=1, encoding='utf-8')"
      ],
      "execution_count": 1,
      "outputs": []
    },
    {
      "cell_type": "code",
      "metadata": {
        "colab": {
          "base_uri": "https://localhost:8080/",
          "height": 302
        },
        "id": "RzEC0namwuSI",
        "outputId": "9c03f25a-338d-48bd-f584-28d2fffbfd76"
      },
      "source": [
        "X = data[:,:2]\n",
        "y = data[:, -1]\n",
        "plt.scatter(X[:,0], X[:,1], c=y)"
      ],
      "execution_count": 30,
      "outputs": [
        {
          "output_type": "execute_result",
          "data": {
            "text/plain": [
              "<matplotlib.collections.PathCollection at 0x7f46d2e456d0>"
            ]
          },
          "metadata": {},
          "execution_count": 30
        },
        {
          "output_type": "display_data",
          "data": {
            "image/png": "[encoded data removed]",
            "text/plain": [
              "<Figure size 432x288 with 1 Axes>"
            ]
          },
          "metadata": {
            "needs_background": "light"
          }
        }
      ]
    },
    {
      "cell_type": "code",
      "metadata": {
        "colab": {
          "base_uri": "https://localhost:8080/"
        },
        "id": "hJHlumaogK5t",
        "outputId": "a38b5b7a-3ce4-4a11-930c-7c926ccc40bd"
      },
      "source": [
        "def calculate_gini(n1, n2):\n",
        "    if n1+n2 == 0: \n",
        "        return 1\n",
        "    else: \n",
        "        return 1 - (n1/(n1+n2))**2 - (n2/(n1+n2))**2\n",
        "        \n",
        "g1 = calculate_gini(y.shape[0] - np.sum(y), np.sum(y))\n",
        "g1"
      ],
      "execution_count": 32,
      "outputs": [
        {
          "output_type": "execute_result",
          "data": {
            "text/plain": [
              "0.5"
            ]
          },
          "metadata": {},
          "execution_count": 32
        }
      ]
    },
    {
      "cell_type": "code",
      "metadata": {
        "colab": {
          "base_uri": "https://localhost:8080/"
        },
        "id": "AEmi9BUPlzrX",
        "outputId": "375836ae-fbc8-44bb-d4e0-3b6560088fba"
      },
      "source": [
        "G = {}\n",
        "listOfKeys = []\n",
        "for var in range(X.shape[1]):\n",
        "  sorted = np.unique(np.sort(X[:, var]))\n",
        "  for i in np.convolve(sorted, np.ones(2), 'valid') / 2:\n",
        "\n",
        "      indx_below = np.where(X[:, var] <= i)\n",
        "      y_below = y[indx_below]\n",
        "      g2 = calculate_gini(y_below.shape[0] - sum(y_below), sum(y_below))\n",
        "\n",
        "      indx_above = np.where(X[:, var] > i)\n",
        "      y_above = y[indx_above]\n",
        "      g3 = calculate_gini(y_above.shape[0] - sum(y_above), sum(y_above))\n",
        "\n",
        "      gini_index = g1 - g2 * y_below.shape[0] / y.shape[0] - g3 * y_above.shape[0] / y.shape[0]\n",
        "      \n",
        "      G[i] = gini_index\n",
        "  gini_index_max = max(G.items(), key=lambda x: x[1])\n",
        "  for key, value in G.items():\n",
        "      if value == gini_index_max[1]:\n",
        "          listOfKeys.append(key)\n",
        "listOfKeys\n"
      ],
      "execution_count": 57,
      "outputs": [
        {
          "output_type": "execute_result",
          "data": {
            "text/plain": [
              "[8.5, 0.9]"
            ]
          },
          "metadata": {},
          "execution_count": 57
        }
      ]
    },
    {
      "cell_type": "code",
      "metadata": {
        "colab": {
          "base_uri": "https://localhost:8080/",
          "height": 302
        },
        "id": "JtoXnQe9n7V5",
        "outputId": "9c50dd7b-18f6-4c3d-a886-31a54087fa38"
      },
      "source": [
        "plt.scatter(X[:,0], X[:,1], c=y)\n",
        "plt.plot([listOfKeys[0], listOfKeys[0]],[0, max(X[:,1])])\n",
        "plt.plot([0,  max(X[:,0])],[listOfKeys[1],listOfKeys[1]])"
      ],
      "execution_count": 70,
      "outputs": [
        {
          "output_type": "execute_result",
          "data": {
            "text/plain": [
              "[<matplotlib.lines.Line2D at 0x7f46d22a4ad0>]"
            ]
          },
          "metadata": {},
          "execution_count": 70
        },
        {
          "output_type": "display_data",
          "data": {
            "image/png": "[encoded data removed]",
            "text/plain": [
              "<Figure size 432x288 with 1 Axes>"
            ]
          },
          "metadata": {
            "needs_background": "light"
          }
        }
      ]
    },
    {
      "cell_type": "code",
      "metadata": {
        "colab": {
          "base_uri": "https://localhost:8080/"
        },
        "id": "1VLYTKS5trKx",
        "outputId": "b5ea6032-1a61-4bea-9e1f-76a3c1d71636"
      },
      "source": [
        "max(X[:,0])"
      ],
      "execution_count": 68,
      "outputs": [
        {
          "output_type": "execute_result",
          "data": {
            "text/plain": [
              "10.0"
            ]
          },
          "metadata": {},
          "execution_count": 68
        }
      ]
    }
  ]
}